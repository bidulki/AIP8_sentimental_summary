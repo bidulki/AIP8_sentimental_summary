{
 "cells": [
  {
   "cell_type": "code",
   "execution_count": null,
   "metadata": {},
   "outputs": [],
   "source": [
    "!git clone https://github.com/bidulki/AIP8_sentimental_summary.git"
   ]
  },
  {
   "cell_type": "code",
   "execution_count": null,
   "metadata": {},
   "outputs": [],
   "source": [
    "%cd AIP8_sentimental_summary"
   ]
  },
  {
   "cell_type": "code",
   "execution_count": 44,
   "metadata": {},
   "outputs": [],
   "source": [
    "!pip install -r requirements.txt\n",
    "from IPython.display import clear_output\n",
    "clear_output()"
   ]
  },
  {
   "cell_type": "code",
   "execution_count": 43,
   "metadata": {},
   "outputs": [],
   "source": [
    "import numpy as np\n",
    "import torch\n",
    "import torch.nn as nn\n",
    "import torch.optim as optim\n",
    "from torch.utils.data import Dataset, DataLoader\n",
    "from tqdm import tqdm\n",
    "import pandas as pd\n",
    "import random\n",
    "from utils.models import SentimentLSTM,Encoder, Decoder, Seq2Seq\n",
    "from utils.datasets import SentimentalSummarizationDataset\n",
    "from utils.vocab import Vocabulary\n",
    "from utils.decode import decode"
   ]
  },
  {
   "cell_type": "markdown",
   "metadata": {},
   "source": [
    "# Amazon review Dataset"
   ]
  },
  {
   "cell_type": "code",
   "execution_count": 48,
   "metadata": {},
   "outputs": [
    {
     "name": "stdout",
     "output_type": "stream",
     "text": [
      "Text Cleaning...\n",
      "  0%|                                                | 0/394987 [00:00<?, ?it/s]/home/bidulki/develop/AIP/AIP8_sentimental_summary/utils/text_utils.py:28: MarkupResemblesLocatorWarning: The input looks more like a filename than markup. You may want to open this file and pass the filehandle into Beautiful Soup.\n",
      "  text = BeautifulSoup(text, \"lxml\").text\n",
      "100%|█████████████████████████████████| 394987/394987 [01:04<00:00, 6137.10it/s]\n",
      "Summary Cleaning...\n",
      " 16%|█████▏                           | 61706/394987 [00:03<00:17, 18956.54it/s]/home/bidulki/develop/AIP/AIP8_sentimental_summary/utils/text_utils.py:28: MarkupResemblesLocatorWarning: The input looks more like a URL than markup. You may want to use an HTTP client like requests to get the document behind the URL, and feed that document to Beautiful Soup.\n",
      "  text = BeautifulSoup(text, \"lxml\").text\n",
      "100%|████████████████████████████████| 394987/394987 [00:21<00:00, 18725.51it/s]\n",
      "Size of Text's Vocabulary: 131326\n",
      "Size of Summary's Vocabulary: 32619\n"
     ]
    }
   ],
   "source": [
    "!python preprocess.py --input_path data_raw/Reviews.csv --output_path data_preprocessed/reviews.tsv\n",
    "data = pd.read_csv(\"data_preprocessed/reviews.tsv\", sep=\"\\t\")\n",
    "data = data.dropna()\n",
    "\n",
    "max_text_len = 180\n",
    "max_summary_len = 10"
   ]
  },
  {
   "cell_type": "markdown",
   "metadata": {},
   "source": [
    "# News Dataset"
   ]
  },
  {
   "cell_type": "code",
   "execution_count": 50,
   "metadata": {},
   "outputs": [
    {
     "name": "stdout",
     "output_type": "stream",
     "text": [
      "Text Cleaning...\n",
      "100%|███████████████████████████████████| 98378/98378 [00:13<00:00, 7376.43it/s]\n",
      "Summary Cleaning...\n",
      "  0%|                                                 | 0/98378 [00:00<?, ?it/s]/home/bidulki/develop/AIP/AIP8_sentimental_summary/utils/text_utils.py:28: MarkupResemblesLocatorWarning: The input looks more like a filename than markup. You may want to open this file and pass the filehandle into Beautiful Soup.\n",
      "  text = BeautifulSoup(text, \"lxml\").text\n",
      "100%|██████████████████████████████████| 98378/98378 [00:06<00:00, 16083.81it/s]\n",
      "Size of Text's Vocabulary: 73788\n",
      "Size of Summary's Vocabulary: 32200\n"
     ]
    }
   ],
   "source": [
    "!python preprocess.py --input_path data_raw/news_summary.tsv --output_path data_preprocessed/news_summary.tsv  --input_encoding \"UTF-8\"\n",
    "data = pd.read_csv(\"data_preprocessed/news_summary.tsv\", sep=\"\\t\")\n",
    "data = data.dropna()\n",
    "\n",
    "max_text_len = 300\n",
    "max_summary_len = 60"
   ]
  },
  {
   "cell_type": "markdown",
   "metadata": {},
   "source": [
    "## 데이터셋 설정"
   ]
  },
  {
   "cell_type": "code",
   "execution_count": 51,
   "metadata": {},
   "outputs": [],
   "source": [
    "cleaned_text =np.array(data['Text'])\n",
    "cleaned_summary=np.array(data['Summary'])\n",
    "cleaned_score = np.array(data['Score'])\n",
    "\n",
    "short_text = []\n",
    "short_summary = []\n",
    "short_score = []\n",
    "\n",
    "for i in range(len(cleaned_text)):\n",
    "    if(len(cleaned_summary[i].split())<=max_summary_len and len(cleaned_text[i].split())<=max_text_len):\n",
    "        short_text.append(cleaned_text[i])\n",
    "        short_summary.append(cleaned_summary[i])\n",
    "        short_score.append(cleaned_score[i])\n",
    "\n",
    "df=pd.DataFrame({'text':short_text,'summary':short_summary, 'score':short_score})"
   ]
  },
  {
   "cell_type": "code",
   "execution_count": 52,
   "metadata": {},
   "outputs": [],
   "source": [
    "from sklearn.model_selection import train_test_split\n",
    "train_data, temp_data = train_test_split(df, test_size=0.2, random_state=0, shuffle=True)\n",
    "valid_data, test_data = train_test_split(temp_data, test_size=0.5, random_state=0, shuffle=True)"
   ]
  },
  {
   "cell_type": "code",
   "execution_count": 53,
   "metadata": {},
   "outputs": [],
   "source": [
    "x_voc = Vocabulary(freq_threshold=4)\n",
    "x_voc.build_vocabulary([text for text in df['text']])\n",
    "\n",
    "y_voc = Vocabulary(freq_threshold=4)\n",
    "y_voc.build_vocabulary([text for text in df['summary']])\n",
    "\n",
    "train_dataset = SentimentalSummarizationDataset(train_data['text'].values, train_data['summary'].values, train_data['score'].values, x_voc, y_voc)\n",
    "valid_dataset = SentimentalSummarizationDataset(valid_data['text'].values, valid_data['summary'].values, valid_data['score'].values, x_voc, y_voc)\n",
    "test_dataset = SentimentalSummarizationDataset(test_data['text'].values, test_data['summary'].values, test_data['score'].values, x_voc, y_voc)"
   ]
  },
  {
   "cell_type": "code",
   "execution_count": 54,
   "metadata": {},
   "outputs": [],
   "source": [
    "def pad_batch_tensors(batch_tensors, max_len, pad_token=0):\n",
    "    padded_batch = [torch.nn.functional.pad(tensor, (0, max_len - tensor.size(0)), value=pad_token) \n",
    "                    for tensor in batch_tensors]\n",
    "    return torch.stack(padded_batch).permute(1,0)"
   ]
  },
  {
   "cell_type": "code",
   "execution_count": 55,
   "metadata": {},
   "outputs": [],
   "source": [
    "def collate_fn(batch):\n",
    "    originals, summaries, labels = zip(*batch)\n",
    "    originals_padded = pad_batch_tensors(originals, max_text_len, pad_token=x_voc.stoi[\"<PAD>\"])\n",
    "    summaries_padded = pad_batch_tensors(summaries, max_summary_len, pad_token=y_voc.stoi[\"<PAD>\"])\n",
    "    labels = torch.stack(labels)\n",
    "    \n",
    "    return originals_padded, summaries_padded, labels"
   ]
  },
  {
   "cell_type": "code",
   "execution_count": 56,
   "metadata": {},
   "outputs": [],
   "source": [
    "batch_size = 512\n",
    "train_loader = DataLoader(train_dataset, batch_size=batch_size, collate_fn=collate_fn)\n",
    "valid_loader = DataLoader(valid_dataset, batch_size=batch_size, collate_fn=collate_fn)\n",
    "test_loader = DataLoader(test_dataset, batch_size=batch_size, collate_fn=collate_fn)"
   ]
  },
  {
   "cell_type": "markdown",
   "metadata": {},
   "source": [
    "## 학습 코드"
   ]
  },
  {
   "cell_type": "code",
   "execution_count": 57,
   "metadata": {},
   "outputs": [],
   "source": [
    "def train(model_summary, model_sentiment, iterator, optimizer_summary, optimizer_sentiment, criterion_summary, criterion_sentiment, clip, device):\n",
    "    model_summary.train()\n",
    "    model_sentiment.train()\n",
    "    epoch_loss = 0\n",
    "    for i, batch in enumerate(tqdm(iterator)):\n",
    "        src, trg, label = batch\n",
    "        src, trg, label = src.to(device), trg.to(device), label.to(device)\n",
    "        label = label.squeeze()\n",
    "        optimizer_sentiment.zero_grad()\n",
    "        output_sentiment = model_sentiment(src)\n",
    "        loss_sentiment = criterion_sentiment(output_sentiment, label)\n",
    "        loss_sentiment.backward()\n",
    "        torch.nn.utils.clip_grad_norm_(model_sentiment.parameters(), clip)\n",
    "        optimizer_sentiment.step()\n",
    "\n",
    "        optimizer_summary.zero_grad()\n",
    "        with torch.no_grad():\n",
    "            sentiment_hidden = model_sentiment.hidden(src)\n",
    "        output = model_summary(src, trg, sentiment_hidden)\n",
    "        output_dim = output.shape[-1]\n",
    "        output = output[1:].reshape(-1, output_dim)\n",
    "        trg = trg[1:].reshape(-1)\n",
    "\n",
    "        loss_summary = criterion_summary(output, trg)\n",
    "        loss_summary.backward()\n",
    "\n",
    "        torch.nn.utils.clip_grad_norm_(model_summary.parameters(), clip)\n",
    "\n",
    "        optimizer_summary.step()\n",
    "\n",
    "        epoch_loss += loss_summary.item()\n",
    "\n",
    "    return epoch_loss / len(iterator)"
   ]
  },
  {
   "cell_type": "code",
   "execution_count": 58,
   "metadata": {},
   "outputs": [],
   "source": [
    "def evaluate(model_summary, model_sentiment, iterator, criterion_summary, device):\n",
    "    model_summary.eval()\n",
    "    model_sentiment.eval()\n",
    "    epoch_loss = 0\n",
    "\n",
    "    with torch.no_grad():\n",
    "        for i, batch in enumerate(tqdm(iterator)):\n",
    "            src, trg, label = batch\n",
    "            src, trg, label = src.to(device), trg.to(device), label.to(device)\n",
    "            label = label.squeeze()\n",
    "            sentiment_hidden = model_sentiment.hidden(src)\n",
    "            output = model_summary(src, trg, sentiment_hidden, 0)\n",
    "\n",
    "            output_dim = output.shape[-1]\n",
    "            output = output[1:].reshape(-1, output_dim)\n",
    "            trg = trg[1:].reshape(-1)\n",
    "\n",
    "            loss = criterion_summary(output, trg)\n",
    "\n",
    "            epoch_loss += loss.item()\n",
    "\n",
    "    return epoch_loss / len(iterator)"
   ]
  },
  {
   "cell_type": "code",
   "execution_count": 59,
   "metadata": {},
   "outputs": [],
   "source": [
    "device = torch.device(\"cuda\" if torch.cuda.is_available() else \"cpu\")\n",
    "input_dim = len(x_voc)\n",
    "output_dim = len(y_voc)\n",
    "encoder = Encoder(input_dim, 256, 512, 2, 0.5)\n",
    "decoder = Decoder(output_dim, 256, 512, 2, 0.5)\n",
    "model_summary = Seq2Seq(encoder, decoder, device, sentiment_ratio=0.2).to(device)\n",
    "\n",
    "optimizer_summary = optim.Adam(model_summary.parameters())\n",
    "pad_idx = y_voc.stoi[\"<PAD>\"]\n",
    "criterion_summary = nn.CrossEntropyLoss(ignore_index=pad_idx)\n",
    "\n",
    "model_sentiment = SentimentLSTM(input_dim, 256, 512, 5, 2, 0.5).to(device)\n",
    "optimizer_sentiment = optim.Adam(model_sentiment.parameters())\n",
    "criterion_sentiment = nn.CrossEntropyLoss()"
   ]
  },
  {
   "cell_type": "code",
   "execution_count": 60,
   "metadata": {},
   "outputs": [
    {
     "name": "stderr",
     "output_type": "stream",
     "text": [
      "100%|██████████| 131/131 [01:33<00:00,  1.41it/s]\n",
      "100%|██████████| 17/17 [00:04<00:00,  3.69it/s]\n"
     ]
    },
    {
     "name": "stdout",
     "output_type": "stream",
     "text": [
      "Epoch: 01\n",
      "\tTrain Loss: 7.190\n",
      "\t Val. Loss: 7.050\n"
     ]
    },
    {
     "name": "stderr",
     "output_type": "stream",
     "text": [
      "100%|██████████| 131/131 [01:32<00:00,  1.42it/s]\n",
      "100%|██████████| 17/17 [00:04<00:00,  3.68it/s]\n"
     ]
    },
    {
     "name": "stdout",
     "output_type": "stream",
     "text": [
      "Epoch: 02\n",
      "\tTrain Loss: 7.007\n",
      "\t Val. Loss: 7.057\n"
     ]
    },
    {
     "name": "stderr",
     "output_type": "stream",
     "text": [
      "100%|██████████| 131/131 [01:33<00:00,  1.41it/s]\n",
      "100%|██████████| 17/17 [00:04<00:00,  3.70it/s]\n"
     ]
    },
    {
     "name": "stdout",
     "output_type": "stream",
     "text": [
      "Epoch: 03\n",
      "\tTrain Loss: 6.935\n",
      "\t Val. Loss: 7.065\n"
     ]
    },
    {
     "name": "stderr",
     "output_type": "stream",
     "text": [
      "100%|██████████| 131/131 [01:32<00:00,  1.41it/s]\n",
      "100%|██████████| 17/17 [00:04<00:00,  3.61it/s]\n"
     ]
    },
    {
     "name": "stdout",
     "output_type": "stream",
     "text": [
      "Epoch: 04\n",
      "\tTrain Loss: 6.822\n",
      "\t Val. Loss: 6.904\n"
     ]
    },
    {
     "name": "stderr",
     "output_type": "stream",
     "text": [
      "100%|██████████| 131/131 [01:32<00:00,  1.42it/s]\n",
      "100%|██████████| 17/17 [00:04<00:00,  3.57it/s]\n"
     ]
    },
    {
     "name": "stdout",
     "output_type": "stream",
     "text": [
      "Epoch: 05\n",
      "\tTrain Loss: 6.553\n",
      "\t Val. Loss: 6.694\n"
     ]
    },
    {
     "name": "stderr",
     "output_type": "stream",
     "text": [
      "100%|██████████| 131/131 [01:33<00:00,  1.40it/s]\n",
      "100%|██████████| 17/17 [00:04<00:00,  3.63it/s]\n"
     ]
    },
    {
     "name": "stdout",
     "output_type": "stream",
     "text": [
      "Epoch: 06\n",
      "\tTrain Loss: 6.280\n",
      "\t Val. Loss: 6.476\n"
     ]
    },
    {
     "name": "stderr",
     "output_type": "stream",
     "text": [
      "100%|██████████| 131/131 [01:33<00:00,  1.40it/s]\n",
      "100%|██████████| 17/17 [00:04<00:00,  3.65it/s]\n"
     ]
    },
    {
     "name": "stdout",
     "output_type": "stream",
     "text": [
      "Epoch: 07\n",
      "\tTrain Loss: 6.042\n",
      "\t Val. Loss: 6.354\n"
     ]
    },
    {
     "name": "stderr",
     "output_type": "stream",
     "text": [
      "100%|██████████| 131/131 [01:31<00:00,  1.42it/s]\n",
      "100%|██████████| 17/17 [00:04<00:00,  3.61it/s]\n"
     ]
    },
    {
     "name": "stdout",
     "output_type": "stream",
     "text": [
      "Epoch: 08\n",
      "\tTrain Loss: 5.842\n",
      "\t Val. Loss: 6.238\n"
     ]
    },
    {
     "name": "stderr",
     "output_type": "stream",
     "text": [
      "100%|██████████| 131/131 [01:30<00:00,  1.45it/s]\n",
      "100%|██████████| 17/17 [00:04<00:00,  3.85it/s]\n"
     ]
    },
    {
     "name": "stdout",
     "output_type": "stream",
     "text": [
      "Epoch: 09\n",
      "\tTrain Loss: 5.692\n",
      "\t Val. Loss: 6.167\n"
     ]
    },
    {
     "name": "stderr",
     "output_type": "stream",
     "text": [
      "100%|██████████| 131/131 [01:31<00:00,  1.44it/s]\n",
      "100%|██████████| 17/17 [00:04<00:00,  3.74it/s]"
     ]
    },
    {
     "name": "stdout",
     "output_type": "stream",
     "text": [
      "Epoch: 10\n",
      "\tTrain Loss: 5.554\n",
      "\t Val. Loss: 6.080\n"
     ]
    },
    {
     "name": "stderr",
     "output_type": "stream",
     "text": [
      "\n"
     ]
    },
    {
     "data": {
      "image/png": "[encoded data removed]",
      "text/plain": [
       "<Figure size 640x480 with 1 Axes>"
      ]
     },
     "metadata": {},
     "output_type": "display_data"
    },
    {
     "name": "stderr",
     "output_type": "stream",
     "text": [
      "100%|██████████| 17/17 [00:04<00:00,  3.63it/s]"
     ]
    },
    {
     "name": "stdout",
     "output_type": "stream",
     "text": [
      "Test Loss: 6.046\n"
     ]
    },
    {
     "name": "stderr",
     "output_type": "stream",
     "text": [
      "\n"
     ]
    }
   ],
   "source": [
    "import matplotlib.pyplot as plt\n",
    "\n",
    "num_epochs = 10\n",
    "clip = 1\n",
    "\n",
    "train_loss_list = []\n",
    "valid_loss_list = []\n",
    "\n",
    "for epoch in range(num_epochs):\n",
    "    train_loss = train(model_summary=model_summary, model_sentiment=model_sentiment, iterator=train_loader,\\\n",
    "                    optimizer_summary=optimizer_summary, optimizer_sentiment=optimizer_sentiment, \\\n",
    "                    criterion_summary=criterion_summary, criterion_sentiment=criterion_sentiment, clip=clip, device=device)\n",
    "    valid_loss = evaluate(model_summary=model_summary, model_sentiment=model_sentiment, iterator=valid_loader, \\\n",
    "                    criterion_summary=criterion_summary, device=device)\n",
    "    train_loss_list.append(train_loss)\n",
    "    valid_loss_list.append(valid_loss)\n",
    "\n",
    "    print(f'Epoch: {epoch+1:02}')\n",
    "    print(f'\\tTrain Loss: {train_loss:.3f}')\n",
    "    print(f'\\t Val. Loss: {valid_loss:.3f}')\n",
    "\n",
    "plt.plot(train_loss_list, label='Training Loss')\n",
    "plt.plot(valid_loss_list, label=\"Validation Loss\")\n",
    "plt.xlabel('Epoch')\n",
    "plt.ylabel('Loss')\n",
    "plt.legend()\n",
    "plt.show()\n",
    "\n",
    "\n",
    "test_loss = evaluate(model_summary=model_summary, model_sentiment=model_sentiment, iterator=test_loader, \\\n",
    "                criterion_summary=criterion_summary, device=device)\n",
    "\n",
    "print(f'Test Loss: {test_loss:.3f}')"
   ]
  },
  {
   "cell_type": "code",
   "execution_count": 61,
   "metadata": {},
   "outputs": [],
   "source": [
    "# decode\n",
    "decoded_sentences, trg_list=decode(model_summary=model_summary, model_sentiment=model_sentiment, iterator=test_loader, \\\n",
    "                device=device)"
   ]
  },
  {
   "cell_type": "code",
   "execution_count": 62,
   "metadata": {},
   "outputs": [],
   "source": [
        "# rouge\n",
        "rouge_1_scores = []\n",
        "rouge_2_scores = []\n",
        "rouge_l_scores = []\n",
        "rouge = Rouge()\n",
        "\n",
        "for i in range(len(decoded_sentences)):\n",
        "  if decoded_sentences[i]!='' and trg_list[i]!='':\n",
        "    scores = rouge.get_scores(decoded_sentences[i], trg_list[i], avg=True)\n",
        "    rouge_1_scores.append(scores['rouge-1']['f'])\n",
        "    rouge_2_scores.append(scores['rouge-2']['f'])\n",
        "    rouge_l_scores.append(scores['rouge-l']['f'])\n",
        "\n",
        "rouge_1_score = sum(rouge_1_scores) / len(rouge_1_scores)\n",
        "rouge_2_score = sum(rouge_2_scores) / len(rouge_2_scores)\n",
        "rouge_l_score = sum(rouge_l_scores) / len(rouge_l_scores)\n",
        "\n",
        "print(\"Rouge-1 Score:\", rouge_1_score)\n",
        "print(\"Rouge-2 Score:\", rouge_2_score)\n",
        "print(\"Rouge-L Score:\", rouge_l_score)"
      ]
  },
  {
   "cell_type": "code",
   "execution_count": 64,
   "metadata": {},
   "outputs": [],
   "source": [
    "# cross_validation\n",
    "\n",
    "from sklearn.model_selection import train_test_split, KFold, ParameterSampler\n",
    "\n",
    "# Concatenate train_data and valid_data for cross-validation\n",
    "combined_data = pd.concat([train_data, valid_data])\n",
    "\n",
    "# Hyperparameter grid and K-Fold setup\n",
    "n_splits = 5\n",
    "kf = KFold(n_splits=n_splits, shuffle=True, random_state=0)\n",
    "param_grid = {'sentiment_ratio': np.arange(0.0, 1.1, 0.1)}\n",
    "param_list = list(ParameterSampler(param_grid, n_iter=len(param_grid['sentiment_ratio'])))\n",
    "\n",
    "best_avg_rouge_score = 0\n",
    "best_model_params = None\n",
    "\n",
    "# Cross-validation and Hyperparameter Tuning\n",
    "device = torch.device(\"cuda\" if torch.cuda.is_available() else \"cpu\")\n",
    "num_epochs = 10\n",
    "clip = 1\n",
    "rouge = Rouge()\n",
    "\n",
    "for params in param_list:\n",
    "    avg_rouge_score = 0\n",
    "    for fold, (train_idx, valid_idx) in enumerate(kf.split(train_data)):\n",
    "        # Split train_data into training and validation for current fold\n",
    "        fold_train_data = combined_data.iloc[train_idx]\n",
    "        fold_valid_data = combined_data.iloc[valid_idx]\n",
    "\n",
    "        fold_train_dataset = SentimentalSummarizationDataset(fold_train_data['text'].values, fold_train_data['summary'].values, fold_train_data['score'].values, x_voc, y_voc)\n",
    "        fold_valid_dataset = SentimentalSummarizationDataset(fold_valid_data['text'].values, fold_valid_data['summary'].values, fold_valid_data['score'].values, x_voc, y_voc)\n",
    "\n",
    "        fold_train_loader = DataLoader(fold_train_dataset, batch_size=batch_size, collate_fn=collate_fn)\n",
    "        fold_valid_loader = DataLoader(fold_valid_dataset, batch_size=batch_size, collate_fn=collate_fn)\n",
    "\n",
    "        # Initialize models for current fold\n",
    "        model_summary = Seq2Seq(encoder, decoder, device, params['sentiment_ratio']).to(device)\n",
    "        model_sentiment = SentimentLSTM(input_dim, 256, 512, 5, 2, 0.5).to(device)\n",
    "\n",
    "        optimizer_summary = optim.Adam(model_summary.parameters())\n",
    "        optimizer_sentiment = optim.Adam(model_sentiment.parameters())\n",
    "        criterion_summary = nn.CrossEntropyLoss(ignore_index=pad_idx)\n",
    "        criterion_sentiment = nn.CrossEntropyLoss()\n",
    "\n",
    "        # Training and Validation for the current fold\n",
    "        for epoch in range(num_epochs):\n",
    "            train_loss = train(model_summary=model_summary, model_sentiment=model_sentiment, iterator=fold_train_loader,\\\n",
    "                            optimizer_summary=optimizer_summary, optimizer_sentiment=optimizer_sentiment, \\\n",
    "                            criterion_summary=criterion_summary, criterion_sentiment=criterion_sentiment, clip=clip, device=device)\n",
    "            valid_loss = evaluate(model_summary=model_summary, model_sentiment=model_sentiment, iterator=fold_valid_loader, \\\n",
    "                            criterion_summary=criterion_summary, device=device)\n",
    "\n",
    "            print(f'Epoch: {epoch+1:02}')\n",
    "            print(f'\\tTrain Loss: {train_loss:.3f}')\n",
    "            print(f'\\t Val. Loss: {valid_loss:.3f}')\n",
    "\n",
    "        # Decoding and computing ROUGE scores\n",
    "        decoded_sentences, trg_list = decode(model_summary, model_sentiment, fold_valid_loader, device)\n",
    "        rouge_scores = [rouge.get_scores(dec, ref, avg=True) for dec, ref in zip(decoded_sentences, trg_list) if dec != '' and ref != '']\n",
    "        fold_avg_rouge_l = np.mean([score['rouge-l']['f'] for score in rouge_scores])\n",
    "        avg_rouge_score += fold_avg_rouge_l / n_splits\n",
    "\n",
    "    print(f'Hyperparameters: {params}, Average ROUGE-L Score: {avg_rouge_score:.3f}')\n",
    "\n",
    "    if avg_rouge_score > best_avg_rouge_score:\n",
    "        best_avg_rouge_score = avg_rouge_score\n",
    "        best_model_params = params\n",
    "\n",
    "print(f'Best Hyperparameters: {best_model_params}, Best Average ROUGE-L Score: {best_avg_rouge_score:.3f}')"
   ]
  },
  {
   "cell_type": "code",
   "execution_count": 63,
   "metadata": {},
   "outputs": [],
   "source": [
    "# output_file = \"result/review_0.2.tsv\"\n",
    "# new_df = pd.DataFrame()\n",
    "# new_df['original'] = trg_list\n",
    "# new_df['summary'] = decoded_sentences\n",
    "# new_df.to_csv(output_file, index=False, sep=\"\\t\")"
   ]
  }
 ],
 "metadata": {
  "kernelspec": {
   "display_name": "aip",
   "language": "python",
   "name": "python3"
  },
  "language_info": {
   "codemirror_mode": {
    "name": "ipython",
    "version": 3
   },
   "file_extension": ".py",
   "mimetype": "text/x-python",
   "name": "python",
   "nbconvert_exporter": "python",
   "pygments_lexer": "ipython3",
   "version": "3.11.5"
  }
 },
 "nbformat": 4,
 "nbformat_minor": 2
}
